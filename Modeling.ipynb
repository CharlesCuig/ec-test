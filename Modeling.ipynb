{
 "cells": [
  {
   "cell_type": "markdown",
   "metadata": {},
   "source": [
    "# Test-aankoop - Modeling"
   ]
  },
  {
   "cell_type": "code",
   "execution_count": null,
   "metadata": {},
   "outputs": [],
   "source": [
    "#!pip install lightgbm"
   ]
  },
  {
   "cell_type": "code",
   "execution_count": null,
   "metadata": {},
   "outputs": [],
   "source": [
    "# development"
   ]
  },
  {
   "cell_type": "code",
   "execution_count": 415,
   "metadata": {},
   "outputs": [],
   "source": [
    "import pandas as pd\n",
    "from datetime import datetime\n",
    "import lightgbm as lgb\n",
    "from sklearn.metrics import mean_squared_error\n",
    "import matplotlib.pyplot as plt"
   ]
  },
  {
   "cell_type": "code",
   "execution_count": 416,
   "metadata": {},
   "outputs": [
    {
     "data": {
      "text/html": [
       "<div>\n",
       "<style scoped>\n",
       "    .dataframe tbody tr th:only-of-type {\n",
       "        vertical-align: middle;\n",
       "    }\n",
       "\n",
       "    .dataframe tbody tr th {\n",
       "        vertical-align: top;\n",
       "    }\n",
       "\n",
       "    .dataframe thead th {\n",
       "        text-align: right;\n",
       "    }\n",
       "</style>\n",
       "<table border=\"1\" class=\"dataframe\">\n",
       "  <thead>\n",
       "    <tr style=\"text-align: right;\">\n",
       "      <th></th>\n",
       "      <th>artikelnr</th>\n",
       "      <th>date</th>\n",
       "      <th>klant</th>\n",
       "      <th>besteldvolume</th>\n",
       "      <th>branche</th>\n",
       "      <th>year</th>\n",
       "      <th>month</th>\n",
       "      <th>week</th>\n",
       "      <th>day</th>\n",
       "      <th>weekday</th>\n",
       "      <th>...</th>\n",
       "      <th>week_before_herfst</th>\n",
       "      <th>week_before_kerst</th>\n",
       "      <th>Wind</th>\n",
       "      <th>Humidity</th>\n",
       "      <th>CloudCover</th>\n",
       "      <th>TemperatureMin</th>\n",
       "      <th>TemperatureMax</th>\n",
       "      <th>PrecipProbability</th>\n",
       "      <th>Icon</th>\n",
       "      <th>promoType</th>\n",
       "    </tr>\n",
       "  </thead>\n",
       "  <tbody>\n",
       "    <tr>\n",
       "      <th>0</th>\n",
       "      <td>11001000000</td>\n",
       "      <td>2018-10-26</td>\n",
       "      <td>60344</td>\n",
       "      <td>0.64</td>\n",
       "      <td>37</td>\n",
       "      <td>2018</td>\n",
       "      <td>9</td>\n",
       "      <td>42</td>\n",
       "      <td>25</td>\n",
       "      <td>4</td>\n",
       "      <td>...</td>\n",
       "      <td>0</td>\n",
       "      <td>0</td>\n",
       "      <td>9.67</td>\n",
       "      <td>0.77</td>\n",
       "      <td>0.87</td>\n",
       "      <td>6.644444</td>\n",
       "      <td>12.561111</td>\n",
       "      <td>0.0</td>\n",
       "      <td>0</td>\n",
       "      <td>-1</td>\n",
       "    </tr>\n",
       "    <tr>\n",
       "      <th>1</th>\n",
       "      <td>11001000000</td>\n",
       "      <td>2018-10-26</td>\n",
       "      <td>60381</td>\n",
       "      <td>0.64</td>\n",
       "      <td>37</td>\n",
       "      <td>2018</td>\n",
       "      <td>9</td>\n",
       "      <td>42</td>\n",
       "      <td>25</td>\n",
       "      <td>4</td>\n",
       "      <td>...</td>\n",
       "      <td>0</td>\n",
       "      <td>0</td>\n",
       "      <td>9.67</td>\n",
       "      <td>0.77</td>\n",
       "      <td>0.87</td>\n",
       "      <td>6.644444</td>\n",
       "      <td>12.561111</td>\n",
       "      <td>0.0</td>\n",
       "      <td>0</td>\n",
       "      <td>-1</td>\n",
       "    </tr>\n",
       "    <tr>\n",
       "      <th>2</th>\n",
       "      <td>11001000000</td>\n",
       "      <td>2018-10-26</td>\n",
       "      <td>60391</td>\n",
       "      <td>1.28</td>\n",
       "      <td>37</td>\n",
       "      <td>2018</td>\n",
       "      <td>9</td>\n",
       "      <td>42</td>\n",
       "      <td>25</td>\n",
       "      <td>4</td>\n",
       "      <td>...</td>\n",
       "      <td>0</td>\n",
       "      <td>0</td>\n",
       "      <td>9.67</td>\n",
       "      <td>0.77</td>\n",
       "      <td>0.87</td>\n",
       "      <td>6.644444</td>\n",
       "      <td>12.561111</td>\n",
       "      <td>0.0</td>\n",
       "      <td>0</td>\n",
       "      <td>-1</td>\n",
       "    </tr>\n",
       "    <tr>\n",
       "      <th>3</th>\n",
       "      <td>11001000000</td>\n",
       "      <td>2018-10-26</td>\n",
       "      <td>60432</td>\n",
       "      <td>0.64</td>\n",
       "      <td>37</td>\n",
       "      <td>2018</td>\n",
       "      <td>9</td>\n",
       "      <td>42</td>\n",
       "      <td>25</td>\n",
       "      <td>4</td>\n",
       "      <td>...</td>\n",
       "      <td>0</td>\n",
       "      <td>0</td>\n",
       "      <td>9.67</td>\n",
       "      <td>0.77</td>\n",
       "      <td>0.87</td>\n",
       "      <td>6.644444</td>\n",
       "      <td>12.561111</td>\n",
       "      <td>0.0</td>\n",
       "      <td>0</td>\n",
       "      <td>-1</td>\n",
       "    </tr>\n",
       "    <tr>\n",
       "      <th>4</th>\n",
       "      <td>11001000000</td>\n",
       "      <td>2018-10-26</td>\n",
       "      <td>60449</td>\n",
       "      <td>0.64</td>\n",
       "      <td>37</td>\n",
       "      <td>2018</td>\n",
       "      <td>9</td>\n",
       "      <td>42</td>\n",
       "      <td>25</td>\n",
       "      <td>4</td>\n",
       "      <td>...</td>\n",
       "      <td>0</td>\n",
       "      <td>0</td>\n",
       "      <td>9.67</td>\n",
       "      <td>0.77</td>\n",
       "      <td>0.87</td>\n",
       "      <td>6.644444</td>\n",
       "      <td>12.561111</td>\n",
       "      <td>0.0</td>\n",
       "      <td>0</td>\n",
       "      <td>-1</td>\n",
       "    </tr>\n",
       "  </tbody>\n",
       "</table>\n",
       "<p>5 rows × 45 columns</p>\n",
       "</div>"
      ],
      "text/plain": [
       "     artikelnr       date  klant  besteldvolume  branche  year  month  week  \\\n",
       "0  11001000000 2018-10-26  60344           0.64       37  2018      9    42   \n",
       "1  11001000000 2018-10-26  60381           0.64       37  2018      9    42   \n",
       "2  11001000000 2018-10-26  60391           1.28       37  2018      9    42   \n",
       "3  11001000000 2018-10-26  60432           0.64       37  2018      9    42   \n",
       "4  11001000000 2018-10-26  60449           0.64       37  2018      9    42   \n",
       "\n",
       "   day  weekday  ...  week_before_herfst  week_before_kerst  Wind  Humidity  \\\n",
       "0   25        4  ...                   0                  0  9.67      0.77   \n",
       "1   25        4  ...                   0                  0  9.67      0.77   \n",
       "2   25        4  ...                   0                  0  9.67      0.77   \n",
       "3   25        4  ...                   0                  0  9.67      0.77   \n",
       "4   25        4  ...                   0                  0  9.67      0.77   \n",
       "\n",
       "   CloudCover  TemperatureMin  TemperatureMax  PrecipProbability  Icon  \\\n",
       "0        0.87        6.644444       12.561111                0.0     0   \n",
       "1        0.87        6.644444       12.561111                0.0     0   \n",
       "2        0.87        6.644444       12.561111                0.0     0   \n",
       "3        0.87        6.644444       12.561111                0.0     0   \n",
       "4        0.87        6.644444       12.561111                0.0     0   \n",
       "\n",
       "   promoType  \n",
       "0         -1  \n",
       "1         -1  \n",
       "2         -1  \n",
       "3         -1  \n",
       "4         -1  \n",
       "\n",
       "[5 rows x 45 columns]"
      ]
     },
     "execution_count": 416,
     "metadata": {},
     "output_type": "execute_result"
    }
   ],
   "source": [
    "# read the prepared data from the prepared data script\n",
    "# Read the sales table\n",
    "preparedSales = pd.read_csv(\"C:/Users/ccui/Box Sync/SO Delivery_Marmo/Marmo_OPEX2020/Planning Marmo/2 Working Documents/data/Data Voor El 61/salesToModel.csv\",\n",
    "                            sep=';',\n",
    "                            header = 'infer'\n",
    "                           )\n",
    "preparedSales['date']= pd.to_datetime(preparedSales['date']) \n",
    "  \n",
    "preparedSales.head()"
   ]
  },
  {
   "cell_type": "code",
   "execution_count": 417,
   "metadata": {},
   "outputs": [
    {
     "data": {
      "text/html": [
       "<div>\n",
       "<style scoped>\n",
       "    .dataframe tbody tr th:only-of-type {\n",
       "        vertical-align: middle;\n",
       "    }\n",
       "\n",
       "    .dataframe tbody tr th {\n",
       "        vertical-align: top;\n",
       "    }\n",
       "\n",
       "    .dataframe thead th {\n",
       "        text-align: right;\n",
       "    }\n",
       "</style>\n",
       "<table border=\"1\" class=\"dataframe\">\n",
       "  <thead>\n",
       "    <tr style=\"text-align: right;\">\n",
       "      <th></th>\n",
       "      <th>artikelnr</th>\n",
       "      <th>date</th>\n",
       "      <th>klant</th>\n",
       "      <th>besteldvolume</th>\n",
       "      <th>branche</th>\n",
       "      <th>year</th>\n",
       "      <th>month</th>\n",
       "      <th>week</th>\n",
       "      <th>day</th>\n",
       "      <th>weekday</th>\n",
       "      <th>...</th>\n",
       "      <th>week_before_herfst</th>\n",
       "      <th>week_before_kerst</th>\n",
       "      <th>Wind</th>\n",
       "      <th>Humidity</th>\n",
       "      <th>CloudCover</th>\n",
       "      <th>TemperatureMin</th>\n",
       "      <th>TemperatureMax</th>\n",
       "      <th>PrecipProbability</th>\n",
       "      <th>Icon</th>\n",
       "      <th>promoType</th>\n",
       "    </tr>\n",
       "  </thead>\n",
       "  <tbody>\n",
       "  </tbody>\n",
       "</table>\n",
       "<p>0 rows × 45 columns</p>\n",
       "</div>"
      ],
      "text/plain": [
       "Empty DataFrame\n",
       "Columns: [artikelnr, date, klant, besteldvolume, branche, year, month, week, day, weekday, day_name, holiday, after_holiday, before_holiday, bridge_day, long_weekend, before_long_weekend, after_long_weekend, weekend, school_vacation, krokus, pasen, zomer, herfst, kerst, week_after_school_vacation, week_after_krokus, week_after_pasen, week_after_zomer, week_after_herfst, week_after_kerst, week_before_school_vacation, week_before_krokus, week_before_pasen, week_before_zomer, week_before_herfst, week_before_kerst, Wind, Humidity, CloudCover, TemperatureMin, TemperatureMax, PrecipProbability, Icon, promoType]\n",
       "Index: []\n",
       "\n",
       "[0 rows x 45 columns]"
      ]
     },
     "execution_count": 417,
     "metadata": {},
     "output_type": "execute_result"
    }
   ],
   "source": [
    "# select the product & store\n",
    "\n",
    "selectedProduct = 1100100032002 # 1100100032002\n",
    "selectedStore = 6403 # 6401\n",
    "#baseTable = preparedSales[(preparedSales[\"artikelnr\"]==1100100032002) & (preparedSales[\"klant\"]==6401)]\n",
    "baseTable = preparedSales[(preparedSales[\"artikelnr\"]==selectedProduct)]\n",
    "baseTable = baseTable[(baseTable[\"klant\"]==selectedStore)]\n",
    "\n",
    "baseTable.head()"
   ]
  },
  {
   "cell_type": "code",
   "execution_count": 418,
   "metadata": {},
   "outputs": [
    {
     "ename": "ValueError",
     "evalue": "min() arg is an empty sequence",
     "output_type": "error",
     "traceback": [
      "\u001b[1;31m---------------------------------------------------------------------------\u001b[0m",
      "\u001b[1;31mValueError\u001b[0m                                Traceback (most recent call last)",
      "\u001b[1;32m<ipython-input-418-c3b93809e5e0>\u001b[0m in \u001b[0;36m<module>\u001b[1;34m\u001b[0m\n\u001b[0;32m      1\u001b[0m \u001b[1;31m# select the time periods for train & test\u001b[0m\u001b[1;33m\u001b[0m\u001b[1;33m\u001b[0m\u001b[1;33m\u001b[0m\u001b[0m\n\u001b[0;32m      2\u001b[0m \u001b[0mdf_train\u001b[0m \u001b[1;33m=\u001b[0m \u001b[0mbaseTable\u001b[0m\u001b[1;33m[\u001b[0m\u001b[1;33m(\u001b[0m\u001b[0mbaseTable\u001b[0m\u001b[1;33m[\u001b[0m\u001b[1;34m\"date\"\u001b[0m\u001b[1;33m]\u001b[0m\u001b[1;33m>=\u001b[0m\u001b[0mdatetime\u001b[0m\u001b[1;33m(\u001b[0m\u001b[1;36m2017\u001b[0m\u001b[1;33m,\u001b[0m \u001b[1;36m1\u001b[0m\u001b[1;33m,\u001b[0m \u001b[1;36m1\u001b[0m\u001b[1;33m)\u001b[0m\u001b[1;33m)\u001b[0m \u001b[1;33m&\u001b[0m \u001b[1;33m(\u001b[0m\u001b[0mbaseTable\u001b[0m\u001b[1;33m[\u001b[0m\u001b[1;34m\"date\"\u001b[0m\u001b[1;33m]\u001b[0m\u001b[1;33m<=\u001b[0m\u001b[0mdatetime\u001b[0m\u001b[1;33m(\u001b[0m\u001b[1;36m2019\u001b[0m\u001b[1;33m,\u001b[0m \u001b[1;36m12\u001b[0m\u001b[1;33m,\u001b[0m \u001b[1;36m31\u001b[0m\u001b[1;33m)\u001b[0m\u001b[1;33m)\u001b[0m\u001b[1;33m]\u001b[0m\u001b[1;33m\u001b[0m\u001b[1;33m\u001b[0m\u001b[0m\n\u001b[1;32m----> 3\u001b[1;33m \u001b[0mprint\u001b[0m\u001b[1;33m(\u001b[0m \u001b[1;34m\"training set date range: \"\u001b[0m \u001b[1;33m+\u001b[0m \u001b[0mstr\u001b[0m\u001b[1;33m(\u001b[0m\u001b[0mmin\u001b[0m\u001b[1;33m(\u001b[0m\u001b[0mdf_train\u001b[0m\u001b[1;33m[\u001b[0m\u001b[1;34m'date'\u001b[0m\u001b[1;33m]\u001b[0m\u001b[1;33m)\u001b[0m\u001b[1;33m.\u001b[0m\u001b[0mdate\u001b[0m\u001b[1;33m(\u001b[0m\u001b[1;33m)\u001b[0m\u001b[1;33m)\u001b[0m \u001b[1;33m+\u001b[0m \u001b[1;34m\" to \"\u001b[0m \u001b[1;33m+\u001b[0m \u001b[0mstr\u001b[0m\u001b[1;33m(\u001b[0m\u001b[0mmax\u001b[0m\u001b[1;33m(\u001b[0m\u001b[0mdf_train\u001b[0m\u001b[1;33m[\u001b[0m\u001b[1;34m'date'\u001b[0m\u001b[1;33m]\u001b[0m\u001b[1;33m)\u001b[0m\u001b[1;33m.\u001b[0m\u001b[0mdate\u001b[0m\u001b[1;33m(\u001b[0m\u001b[1;33m)\u001b[0m\u001b[1;33m)\u001b[0m\u001b[1;33m)\u001b[0m\u001b[1;33m\u001b[0m\u001b[1;33m\u001b[0m\u001b[0m\n\u001b[0m\u001b[0;32m      4\u001b[0m \u001b[1;33m\u001b[0m\u001b[0m\n\u001b[0;32m      5\u001b[0m \u001b[0mdf_test\u001b[0m \u001b[1;33m=\u001b[0m \u001b[0mbaseTable\u001b[0m\u001b[1;33m[\u001b[0m\u001b[1;33m(\u001b[0m\u001b[0mbaseTable\u001b[0m\u001b[1;33m[\u001b[0m\u001b[1;34m\"date\"\u001b[0m\u001b[1;33m]\u001b[0m\u001b[1;33m>=\u001b[0m\u001b[0mdatetime\u001b[0m\u001b[1;33m(\u001b[0m\u001b[1;36m2020\u001b[0m\u001b[1;33m,\u001b[0m \u001b[1;36m1\u001b[0m\u001b[1;33m,\u001b[0m \u001b[1;36m1\u001b[0m\u001b[1;33m)\u001b[0m\u001b[1;33m)\u001b[0m \u001b[1;33m&\u001b[0m \u001b[1;33m(\u001b[0m\u001b[0mbaseTable\u001b[0m\u001b[1;33m[\u001b[0m\u001b[1;34m\"date\"\u001b[0m\u001b[1;33m]\u001b[0m\u001b[1;33m<=\u001b[0m\u001b[0mdatetime\u001b[0m\u001b[1;33m(\u001b[0m\u001b[1;36m2020\u001b[0m\u001b[1;33m,\u001b[0m \u001b[1;36m4\u001b[0m\u001b[1;33m,\u001b[0m \u001b[1;36m30\u001b[0m\u001b[1;33m)\u001b[0m\u001b[1;33m)\u001b[0m\u001b[1;33m]\u001b[0m\u001b[1;33m\u001b[0m\u001b[1;33m\u001b[0m\u001b[0m\n",
      "\u001b[1;31mValueError\u001b[0m: min() arg is an empty sequence"
     ]
    }
   ],
   "source": [
    "# select the time periods for train & test\n",
    "df_train = baseTable[(baseTable[\"date\"]>=datetime(2017, 1, 1)) & (baseTable[\"date\"]<=datetime(2019, 12, 31))]\n",
    "print( \"training set date range: \" + str(min(df_train['date']).date()) + \" to \" + str(max(df_train['date']).date()))\n",
    "\n",
    "df_test = baseTable[(baseTable[\"date\"]>=datetime(2020, 1, 1)) & (baseTable[\"date\"]<=datetime(2020, 4, 30))]\n",
    "print( \"test set date range: \" + str(min(df_test['date']).date()) + \" to \" + str(max(df_test['date']).date()))"
   ]
  },
  {
   "cell_type": "code",
   "execution_count": null,
   "metadata": {},
   "outputs": [],
   "source": [
    "# set the date column as index column\n",
    "df_train = df_train.set_index(['date', 'artikelnr', 'klant'])\n",
    "df_test = df_test.set_index(['date', 'artikelnr', 'klant'])\n",
    "\n",
    "df_train.head()"
   ]
  },
  {
   "cell_type": "code",
   "execution_count": null,
   "metadata": {},
   "outputs": [],
   "source": [
    "# set the dependent variable (Y) & drop it from the independent variables (X) \n",
    "y_train = df_train['besteldvolume']\n",
    "y_test = df_test['besteldvolume']\n",
    "\n",
    "X_train = df_train.drop('besteldvolume', axis=1)\n",
    "X_test = df_test.drop('besteldvolume', axis=1)"
   ]
  },
  {
   "cell_type": "code",
   "execution_count": null,
   "metadata": {},
   "outputs": [],
   "source": [
    "#df_train_null['pred'], df_eval_null['pred'], df_test_null['pred'] = 0, 0, 0\n",
    "#df_train_null['error'], df_eval_null['error'], df_test_null['error'] = 0, 0, 0"
   ]
  },
  {
   "cell_type": "code",
   "execution_count": null,
   "metadata": {},
   "outputs": [],
   "source": [
    "features = X_train.columns\n",
    "categorical_features = list(features.drop(['year', 'Wind', 'Humidity', 'CloudCover', 'TemperatureMin', 'TemperatureMax', 'PrecipProbability']))\n",
    "print(categorical_features)"
   ]
  },
  {
   "cell_type": "code",
   "execution_count": null,
   "metadata": {},
   "outputs": [],
   "source": [
    "df_train.head()"
   ]
  },
  {
   "cell_type": "code",
   "execution_count": null,
   "metadata": {
    "scrolled": true
   },
   "outputs": [],
   "source": [
    "# create dataset for lightgbm\n",
    "lgb_train = lgb.Dataset(data=X_train, label=y_train, categorical_feature=categorical_features)\n",
    "lgb_test = lgb.Dataset(data=X_test, label=y_test, categorical_feature=categorical_features, reference=lgb_train)\n",
    "\n",
    "# specify your configurations as a dict\n",
    "params = {\n",
    "    'boosting_type': 'gbdt',\n",
    "    'objective': 'regression',\n",
    "    'metric': 'rmse',\n",
    "    'num_leaves': 7,\n",
    "    'learning_rate': 0.001,\n",
    "    'feature_fraction': 0.7,\n",
    "    'bagging_fraction': 0.8,\n",
    "    'bagging_freq': 10,\n",
    "    'max_depth': 5,\n",
    "    'verbose': 50,\n",
    "    'early_stopping_round': 20,\n",
    "}\n",
    "\n",
    "print('Starting training...')\n",
    "# train\n",
    "gbm = lgb.train(\n",
    "    params,\n",
    "    lgb_train,\n",
    "    num_boost_round=10_000,\n",
    "    valid_sets=[lgb_train],\n",
    "#     valid_sets=lgb_test\n",
    ")"
   ]
  },
  {
   "cell_type": "code",
   "execution_count": null,
   "metadata": {},
   "outputs": [],
   "source": [
    "featureNames = gbm.feature_name()\n",
    "featureImportances = gbm.feature_importance()\n",
    "\n",
    "importances = {'Feature':featureNames,'Importance':featureImportances}\n",
    "featureImportanceTable = pd.DataFrame(importances)\n",
    "\n",
    "featureImportanceTable['artikelnr'] = selectedProduct\n",
    "featureImportanceTable['klant'] = selectedStore\n",
    "featureImportanceTable.head()"
   ]
  },
  {
   "cell_type": "code",
   "execution_count": null,
   "metadata": {},
   "outputs": [],
   "source": [
    "df_train['pred'] = gbm.predict(X_train, num_iteration=gbm.best_iteration)\n",
    "df_train['error'] = df_train['besteldvolume'] - df_train['pred']\n",
    "print('The rmse for the training set is:', mean_squared_error(y_train, df_train['pred']) ** 0.5)"
   ]
  },
  {
   "cell_type": "code",
   "execution_count": null,
   "metadata": {},
   "outputs": [],
   "source": [
    "df_test['pred'] = gbm.predict(X_test, num_iteration=gbm.best_iteration)\n",
    "df_test['error'] = df_test['besteldvolume'] - df_test['pred']\n",
    "print('The rmse for the test set is:', mean_squared_error(y_test, df_test['pred']) ** 0.5)"
   ]
  },
  {
   "cell_type": "code",
   "execution_count": null,
   "metadata": {},
   "outputs": [],
   "source": [
    "df_result = df_test[['besteldvolume', 'pred', 'error']]\n",
    "print(df_result.reset_index().head())"
   ]
  },
  {
   "cell_type": "code",
   "execution_count": null,
   "metadata": {},
   "outputs": [],
   "source": [
    "# Plot feature importances\n",
    "ax = lgb.plot_importance(gbm, max_num_features=20)\n",
    "plt.show()"
   ]
  },
  {
   "cell_type": "code",
   "execution_count": null,
   "metadata": {},
   "outputs": [],
   "source": [
    "df_pred_actual = df_test.reset_index()\n",
    "df_pred_actual = df_pred_actual.set_index('date')\n",
    "df_pred_actual.head()"
   ]
  },
  {
   "cell_type": "code",
   "execution_count": null,
   "metadata": {},
   "outputs": [],
   "source": [
    "df_plot = df_pred_actual.sort_index()\n",
    "fig1 = plt.figure(figsize=(16,6))\n",
    "plt.plot(df_plot.index, df_plot['besteldvolume'], label='actuals')\n",
    "plt.plot(df_plot.index, df_plot['pred'], label='prediction')\n",
    "plt.ylim(0, 10)\n",
    "plt.legend()"
   ]
  }
 ],
 "metadata": {
  "kernelspec": {
   "display_name": "Python 3",
   "language": "python",
   "name": "python3"
  },
  "language_info": {
   "codemirror_mode": {
    "name": "ipython",
    "version": 3
   },
   "file_extension": ".py",
   "mimetype": "text/x-python",
   "name": "python",
   "nbconvert_exporter": "python",
   "pygments_lexer": "ipython3",
   "version": "3.7.6"
  }
 },
 "nbformat": 4,
 "nbformat_minor": 4
}